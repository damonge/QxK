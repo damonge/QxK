{
 "cells": [
  {
   "cell_type": "code",
   "execution_count": 11,
   "metadata": {
    "collapsed": true
   },
   "outputs": [],
   "source": [
    "import numpy as np\n",
    "import matplotlib.pyplot as plt\n",
    "from astropy.io import ascii\n",
    "from astropy.io import fits\n",
    "import healpy as hp\n",
    "%matplotlib inline"
   ]
  },
  {
   "cell_type": "code",
   "execution_count": 7,
   "metadata": {
    "collapsed": true
   },
   "outputs": [],
   "source": [
    "#base_dir = '/Users/Joseph/Brookhaven/Research/data/'  #directory in which catalogs are stored\n",
    "base_dir = '/home/anze/Dropbox/work/dla_catalog_dr12q_lyb_lya/ascii_catalog'\n",
    "DR12Qfits = '/home/anze/Data/BOSS.private/sas/dr12/boss/qso/DR12Q/DR12Q.fits'\n",
    "\n",
    "#I had to change this part to work with python 3\n",
    "def da():\n",
    "    return map(lambda x:x.split(),open(base_dir+'/table3.dat').readlines())\n",
    "def pet():\n",
    "    return map(lambda x:x.split(),open(base_dir+'/DLA_DR12_v2.dat').readlines()[2:])"
   ]
  },
  {
   "cell_type": "code",
   "execution_count": 46,
   "metadata": {
    "collapsed": false
   },
   "outputs": [],
   "source": [
    "#Granet catalog\n",
    "#nHi=np.array([float(x[-1]) for x in da()])\n",
    "#z=np.array([float(x[-2]) for x in da()])   #dla redshift\n",
    "#zq=np.array([float(x[7]) for x in da()])   #quasar redshift\n",
    "p=np.array([float(x[-3]) for x in da()])   \n",
    "#pn=np.array([float(x[-4]) for x in da()])\n",
    "tid=np.array([int(x[0]) for x in da()])     #thing index\n",
    "wh=np.where(p>0.9)\n",
    "tid=tid[wh]"
   ]
  },
  {
   "cell_type": "code",
   "execution_count": 47,
   "metadata": {
    "collapsed": true
   },
   "outputs": [],
   "source": [
    "# Pasquier catalog\n",
    "tidp=[int(x[0]) for x in pet()]             #thing index\n",
    "zqp=np.array([float(x[4]) for x in pet()])  #quasar redshift\n",
    "zp=np.array([float(x[9]) for x in pet()])   #dla redshift\n",
    "nHip=np.array([float(x[10]) for x in pet()]) "
   ]
  },
  {
   "cell_type": "code",
   "execution_count": 48,
   "metadata": {
    "collapsed": true
   },
   "outputs": [],
   "source": [
    "# quasar catalog\n",
    "qso = fits.open(DR12Qfits)\n",
    "qso_data = qso[1].data\n",
    "thing_id = qso_data['THING_ID']  #thing_id for all of the quasars\n",
    "thing_id = np.array(thing_id,dtype=float)\n",
    "psf_mag = qso_data['PSFMAG']\n",
    "psf_mag = np.array(psf_mag,dtype=float)\n",
    "z_qso = qso_data['Z_PIPE']       #using 'Z_PIPE' as redshift of quasars\n",
    "z_qso = np.asarray(z_qso,dtype=float) \n",
    "\n",
    "psf_u = psf_mag[:,0] #psf magnitudes in u band of all quasars"
   ]
  },
  {
   "cell_type": "code",
   "execution_count": 49,
   "metadata": {
    "collapsed": true
   },
   "outputs": [],
   "source": [
    "#finding the indices of the corresponding quasars in the catalogs with the DR12 catalog\n",
    "\n",
    "p_psf_ind = []\n",
    "for i in tidp:\n",
    "    ind = np.where(thing_id - i == 0.) #(can be changed to different catalog by changing the thing_id)\n",
    "    p_psf_ind.append(ind[0][0])  #indices of qso within parent catalog \n",
    "\n",
    "p_psf_ind = np.asarray(p_psf_ind,dtype=int)\n",
    "\n",
    "\n",
    "\n",
    "g_psf_ind = []\n",
    "for i in tid:  \n",
    "    ind = np.where(thing_id - i == 0.)\n",
    "    g_psf_ind.append(ind[0][0]) #indices of qso within parent catalog\n",
    "g_psf_ind = np.asarray(g_psf_ind,dtype=int)\n",
    "\n",
    "\n",
    "p_psf_u = psf_u[p_psf_ind]\n",
    "g_psf_u = psf_u[g_psf_ind]"
   ]
  },
  {
   "cell_type": "code",
   "execution_count": 57,
   "metadata": {
    "collapsed": false
   },
   "outputs": [
    {
     "name": "stderr",
     "output_type": "stream",
     "text": [
      "/home/anze/local/anaconda/lib/python2.7/site-packages/ipykernel/__main__.py:15: RuntimeWarning: invalid value encountered in divide\n",
      "/home/anze/local/anaconda/lib/python2.7/site-packages/ipykernel/__main__.py:16: RuntimeWarning: invalid value encountered in divide\n"
     ]
    },
    {
     "data": {
      "image/png": "[encoded data removed]",
      "text/plain": [
       "<matplotlib.figure.Figure at 0x2b931542e150>"
      ]
     },
     "metadata": {},
     "output_type": "display_data"
    }
   ],
   "source": [
    "# Plot histogram of magnitude in the two catalogs\n",
    "\n",
    "def m(x):                 \n",
    "    return 0.5*(x[1:]+x[:-1])\n",
    "\n",
    "\n",
    "#creating weighted histogram for all DR12 quasars (garnet (&pasquier?) parent)\n",
    "hist_all,ed_all=np.histogram(psf_u,bins=100,range=(19,27.50),normed=True)\n",
    "beg_sum = sum(hist_all)\n",
    "dz=0.1\n",
    "rdshift = np.arange(0, 7.4, dz)\n",
    "qso_hist = np.histogram(z_qso, bins=rdshift)\n",
    "dla_hist = np.histogram(z_qso[p_psf_ind], bins=rdshift)\n",
    "dla_histg = np.histogram(z_qso[g_psf_ind], bins=rdshift)\n",
    "weights = dla_hist[0]*1.0/qso_hist[0]\n",
    "weightsg = dla_histg[0]*1.0/qso_hist[0]\n",
    "z_bins = (z_qso/dz).astype('int')\n",
    "qweights = weights[z_bins]\n",
    "qweightsg = weightsg[z_bins]\n",
    "#creating weighted histogram for pasquier quasars\n",
    "histp,edp=np.histogram(psf_u[p_psf_ind],bins=100,range=(19,27.50),normed=True)\n",
    "#histp,edp=np.histogram(z_qso[p_psf_ind],bins=100,normed=True)\n",
    "plt.plot(m(edp),histp,label='N12',color='red')\n",
    "phistp,pedp=np.histogram(psf_u,weights=qweights, bins=100,range=(19,27.50),normed=True)\n",
    "#phistp,pedp=np.histogram(z_qso,weights=qweights, bins=100,normed=True)\n",
    "plt.plot(m(pedp),phistp,label='N12 Parent',color='red',ls='--')\n",
    "\n",
    "\n",
    "histp,edp=np.histogram(psf_u[g_psf_ind],bins=100,range=(19,27.50),normed=True)\n",
    "#histp,edp=np.histogram(z_qso[p_psf_ind],bins=100,normed=True)\n",
    "plt.plot(m(edp),histp,label='G16',color='blue')\n",
    "phistp,pedp=np.histogram(psf_u,weights=qweightsg, bins=100,range=(19,27.50),normed=True)\n",
    "#phistp,pedp=np.histogram(z_qso,weights=qweights, bins=100,normed=True)\n",
    "plt.plot(m(pedp),phistp,label='G16 Parent',color='blue', ls='--')\n",
    "\n",
    "\n",
    "#plt.plot(rdshift,weights)\n",
    "\n",
    "\n",
    "plt.xlabel('PSF Magnitude')\n",
    "plt.legend()\n",
    "plt.savefig(\"umagdist.pdf\")\n",
    "plt.show()"
   ]
  },
  {
   "cell_type": "code",
   "execution_count": 44,
   "metadata": {
    "collapsed": false
   },
   "outputs": [
    {
     "data": {
      "text/plain": [
       "297301"
      ]
     },
     "execution_count": 44,
     "metadata": {},
     "output_type": "execute_result"
    }
   ],
   "source": [
    "len(qweightsg)"
   ]
  },
  {
   "cell_type": "code",
   "execution_count": null,
   "metadata": {
    "collapsed": true
   },
   "outputs": [],
   "source": [
    "\n",
    "\n",
    "beg_sum = sum(histp)\n",
    "dz=0.1\n",
    "rdshift = np.arange(0, 7.2, dz)\n",
    "qso_hist = np.histogram(zqp, bins=rdshift)\n",
    "dla_hist = np.histogram(zp, bins=rdshift)\n",
    "weights = dla_hist[0]/qso_hist[0]\n",
    "z_bins = (zqp/dz).astype('int')\n",
    "for i in range(len(edp)-1):\n",
    "    ind = np.where((p_psf_u>edp[i]) * (p_psf_u<edp[i+1]))\n",
    "    w_qso = weights[z_bins[ind]]\n",
    "    histp[i] = histp[i]*sum(w_qso)/len(w_qso)\n",
    "histp = np.asarray(histp,dtype=float)\n",
    "sump = sum(histp[np.logical_not(np.isnan(histp))])\n",
    "histp *= beg_sum/sump\n",
    "plt.plot(m(edp),histp,label='Petitjean Parent',color='orange',ls='--')\n",
    "\n",
    "#creating weighted histogram for garnet quasars\n",
    "w=np.where(p>0.80)                 #take just p>0.8 from Granet as true DLAs, gives a right number\n",
    "g_psf_uw = g_psf_u[w];\n",
    "zw = z[w]; \n",
    "zqw = zq[w]\n",
    "hist,ed=np.histogram(g_psf_uw,bins=100,range=(19,27.50),normed=True)\n",
    "plt.plot(m(ed),hist,label='Garnet',color='blue')\n",
    "beg_sum = sum(hist)\n",
    "dz=0.1\n",
    "rdshift = np.arange(0, 7.2, dz)\n",
    "qso_hist = np.histogram(zqw, bins=rdshift)\n",
    "dla_hist = np.histogram(zw, bins=rdshift)\n",
    "weights = dla_hist[0]/qso_hist[0]\n",
    "z_bins = (zqw/dz).astype('int')\n",
    "for i in range(len(ed_all)-1):\n",
    "    ind = np.where((g_psf_uw>ed[i]) * (g_psf_uw<ed[i+1]))\n",
    "    w_qso = weights[z_bins[ind]]\n",
    "    hist[i] = hist[i]*sum(w_qso)/len(w_qso)\n",
    "hist = np.asarray(hist,dtype=float)\n",
    "sumg = sum(hist[np.logical_not(np.isnan(hist))])\n",
    "hist *= beg_sum/sumg\n",
    "plt.plot(m(ed),hist,label='Garnet Parent',color='blue',ls='--')"
   ]
  }
 ],
 "metadata": {
  "kernelspec": {
   "display_name": "Python 2",
   "language": "python",
   "name": "python2"
  },
  "language_info": {
   "codemirror_mode": {
    "name": "ipython",
    "version": 2
   },
   "file_extension": ".py",
   "mimetype": "text/x-python",
   "name": "python",
   "nbconvert_exporter": "python",
   "pygments_lexer": "ipython2",
   "version": "2.7.12"
  }
 },
 "nbformat": 4,
 "nbformat_minor": 1
}
