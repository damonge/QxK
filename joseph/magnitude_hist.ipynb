{
 "cells": [
  {
   "cell_type": "code",
   "execution_count": null,
   "metadata": {
    "collapsed": true
   },
   "outputs": [],
   "source": [
    "import numpy as np\n",
    "import matplotlib.pyplot as plt\n",
    "from astropy.io import ascii\n",
    "from astropy.io import fits\n",
    "import healpy as hp"
   ]
  },
  {
   "cell_type": "code",
   "execution_count": null,
   "metadata": {
    "collapsed": true
   },
   "outputs": [],
   "source": [
    "base_dir = '/Users/Joseph/Brookhaven/Research/data/'  #directory in which catalogs are stored\n",
    "\n",
    "\n",
    "#I had to change this part to work with python 3\n",
    "def da():\n",
    "    return map(lambda x:x.split(),open(base_dir+'/table3.dat').readlines())\n",
    "def pet():\n",
    "    return map(lambda x:x.split(),open(base_dir+'/DLA_DR12_v2.dat').readlines()[2:])"
   ]
  },
  {
   "cell_type": "code",
   "execution_count": null,
   "metadata": {
    "collapsed": true
   },
   "outputs": [],
   "source": [
    "#Granet catalog\n",
    "nHi=np.array([float(x[-1]) for x in da()])\n",
    "z=np.array([float(x[-2]) for x in da()])   #dla redshift\n",
    "zq=np.array([float(x[7]) for x in da()])   #quasar redshift\n",
    "p=np.array([float(x[-3]) for x in da()])   \n",
    "pn=np.array([float(x[-4]) for x in da()])\n",
    "tid=[int(x[0]) for x in da()]              #thing index"
   ]
  },
  {
   "cell_type": "code",
   "execution_count": null,
   "metadata": {
    "collapsed": true
   },
   "outputs": [],
   "source": [
    "# Pasquier catalog\n",
    "tidp=[int(x[0]) for x in pet()]             #thing index\n",
    "zqp=np.array([float(x[4]) for x in pet()])  #quasar redshift\n",
    "zp=np.array([float(x[9]) for x in pet()])   #dla redshift\n",
    "nHip=np.array([float(x[10]) for x in pet()]) "
   ]
  },
  {
   "cell_type": "code",
   "execution_count": null,
   "metadata": {
    "collapsed": true
   },
   "outputs": [],
   "source": [
    "# quasar catalog\n",
    "qso = fits.open(\"../../data/DR12Q.fits\")\n",
    "qso_data = qso[1].data\n",
    "thing_id = qso_data['THING_ID']  #thing_id for all of the quasars\n",
    "thing_id = np.array(thing_id,dtype=float)\n",
    "psf_mag = qso_data['PSFMAG']\n",
    "psf_mag = np.array(psf_mag,dtype=float)\n",
    "z_qso = qso_data['Z_PIPE']       #using 'Z_PIPE' as redshift of quasars\n",
    "z_qso = np.asarray(z_qso,dtype=float) \n",
    "\n",
    "psf_u = psf_mag[:,0] #psf magnitudes in u band of all quasars"
   ]
  },
  {
   "cell_type": "code",
   "execution_count": null,
   "metadata": {
    "collapsed": true
   },
   "outputs": [],
   "source": [
    "#finding the indices of the corresponding quasars in the catalogs with the DR12 catalog\n",
    "\n",
    "p_psf_ind = []\n",
    "for i in tidp:\n",
    "    ind = np.where(thing_id - i == 0.) #(can be changed to different catalog by changing the thing_id)\n",
    "    p_psf_ind.append(ind[0][0])  #indices of qso within parent catalog \n",
    "\n",
    "p_psf_ind = np.asarray(p_psf_ind,dtype=int)\n",
    "\n",
    "\n",
    "\n",
    "g_psf_ind = []\n",
    "for i in tid:  \n",
    "    ind = np.where(thing_id - i == 0.)\n",
    "    g_psf_ind.append(ind[0][0]) #indices of qso within parent catalog\n",
    "g_psf_ind = np.asarray(g_psf_ind,dtype=int)\n",
    "\n",
    "\n",
    "p_psf_u = psf_u[p_psf_ind]\n",
    "g_psf_u = psf_u[g_psf_ind]"
   ]
  },
  {
   "cell_type": "code",
   "execution_count": null,
   "metadata": {},
   "outputs": [],
   "source": [
    "# Plot histogram of magnitude in the two catalogs\n",
    "\n",
    "def m(x):                 \n",
    "    return 0.5*(x[1:]+x[:-1])\n",
    "\n",
    "\n",
    "#creating weighted histogram for all DR12 quasars (garnet (&pasquier?) parent)\n",
    "hist_all,ed_all=np.histogram(psf_u,bins=100,range=(19,27.50),normed=True)\n",
    "beg_sum = sum(hist_all)\n",
    "dz=0.1\n",
    "rdshift = np.arange(0, 7.2, dz)\n",
    "qso_hist = np.histogram(z_qso, bins=rdshift)\n",
    "dla_hist = np.histogram(z_qso[g_psf_ind], bins=rdshift)\n",
    "weights = dla_hist[0]/qso_hist[0]\n",
    "z_bins = (z_qso/dz).astype('int')\n",
    "for i in range(len(ed_all)-1):\n",
    "    ind = np.where((psf_u>ed_all[i]) * (psf_u<ed_all[i+1]))\n",
    "    w_qso = weights[z_bins[ind]]\n",
    "    hist_all[i] = hist_all[i]*sum(w_qso)/len(w_qso)\n",
    "hist_all = np.asarray(hist_all,dtype=float)\n",
    "sum_all = sum(hist_all[np.logical_not(np.isnan(hist_all))])\n",
    "hist_all *= beg_sum/sum_all\n",
    "plt.plot(m(ed_all),hist_all,label='Garnet Parent',ls = '--',color='xkcd:mid blue')\n",
    "\n",
    "#creating weighted histogram for pasquier quasars\n",
    "histp,edp=np.histogram(p_psf_u,bins=100,range=(19,27.50),normed=True)\n",
    "beg_sum = sum(histp)\n",
    "dz=0.1\n",
    "rdshift = np.arange(0, 7.2, dz)\n",
    "qso_hist = np.histogram(zqp, bins=rdshift)\n",
    "dla_hist = np.histogram(zp, bins=rdshift)\n",
    "weights = dla_hist[0]/qso_hist[0]\n",
    "z_bins = (zqp/dz).astype('int')\n",
    "for i in range(len(edp)-1):\n",
    "    ind = np.where((p_psf_u>edp[i]) * (p_psf_u<edp[i+1]))\n",
    "    w_qso = weights[z_bins[ind]]\n",
    "    histp[i] = histp[i]*sum(w_qso)/len(w_qso)\n",
    "histp = np.asarray(histp,dtype=float)\n",
    "sump = sum(histp[np.logical_not(np.isnan(histp))])\n",
    "histp *= beg_sum/sump\n",
    "plt.plot(m(edp),histp,label='Petitjean',color='xkcd:orange')\n",
    "\n",
    "#creating weighted histogram for garnet quasars\n",
    "w=np.where(p>0.80)                 #take just p>0.8 from Granet as true DLAs, gives a right number\n",
    "g_psf_uw = g_psf_u[w];\n",
    "zw = z[w]; \n",
    "zqw = zq[w]\n",
    "hist,ed=np.histogram(g_psf_uw,bins=100,range=(19,27.50),normed=True)\n",
    "beg_sum = sum(hist)\n",
    "dz=0.1\n",
    "rdshift = np.arange(0, 7.2, dz)\n",
    "qso_hist = np.histogram(zqw, bins=rdshift)\n",
    "dla_hist = np.histogram(zw, bins=rdshift)\n",
    "weights = dla_hist[0]/qso_hist[0]\n",
    "z_bins = (zqw/dz).astype('int')\n",
    "for i in range(len(ed_all)-1):\n",
    "    ind = np.where((g_psf_uw>ed[i]) * (g_psf_uw<ed[i+1]))\n",
    "    w_qso = weights[z_bins[ind]]\n",
    "    hist[i] = hist[i]*sum(w_qso)/len(w_qso)\n",
    "hist = np.asarray(hist,dtype=float)\n",
    "sumg = sum(hist[np.logical_not(np.isnan(hist))])\n",
    "hist *= beg_sum/sumg\n",
    "plt.plot(m(ed),hist,label='Garnet',color='xkcd:mid blue')\n",
    "\n",
    "plt.xlabel('PSF Magnitude')\n",
    "plt.legend()\n",
    "plt.show()"
   ]
  }
 ],
 "metadata": {
  "kernelspec": {
   "display_name": "Python 3",
   "language": "python",
   "name": "python3"
  },
  "language_info": {
   "codemirror_mode": {
    "name": "ipython",
    "version": 3
   },
   "file_extension": ".py",
   "mimetype": "text/x-python",
   "name": "python",
   "nbconvert_exporter": "python",
   "pygments_lexer": "ipython3",
   "version": "3.6.1"
  }
 },
 "nbformat": 4,
 "nbformat_minor": 1
}
